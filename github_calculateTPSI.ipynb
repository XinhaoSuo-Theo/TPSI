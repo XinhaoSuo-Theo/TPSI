{
 "cells": [
  {
   "cell_type": "code",
   "execution_count": 1,
   "metadata": {},
   "outputs": [],
   "source": [
    "import numpy as np\n",
    "import pandas as pd\n",
    "\n",
    "import xarray as xr\n"
   ]
  },
  {
   "cell_type": "code",
   "execution_count": null,
   "metadata": {},
   "outputs": [],
   "source": [
    "###############\n",
    "##### Load Data\n",
    "###############\n",
    "###pre\n",
    "pre_MAM=np.load('reshape_pre_MAM.npy')\n",
    "pre_JJA=np.load('reshape_pre_JJA.npy')\n",
    "pre_SON=np.load('reshape_pre_SON.npy')\n",
    "pre_DJF=np.load('reshape_pre_DJF.npy')\n",
    "\n",
    "####ts\n",
    "ts_MAM=np.load('reshape_ts_MAM.npy')\n",
    "ts_JJA=np.load('reshape_ts_JJA.npy')\n",
    "ts_SON=np.load('reshape_ts_SON.npy')\n",
    "ts_DJF=np.load('reshape_ts_DJF.npy')\n",
    "\n",
    "\n",
    "####year\n",
    "ts_year=(ts_MAM*92+ts_JJA*92+ts_SON*91+ts_DJF*90)/365\n",
    "pre_year=(pre_MAM*92+pre_JJA*92+pre_SON*91+pre_DJF*90)/365\n",
    "\n",
    "################\n",
    "####  Calculate minimum value\n",
    "################\n",
    "ts_MAM_min=np.nanmin(ts_MAM,axis=0)\n",
    "ts_JJA_min=np.nanmin(ts_JJA,axis=0)\n",
    "ts_SON_min=np.nanmin(ts_SON,axis=0)\n",
    "ts_DJF_min=np.nanmin(ts_DJF,axis=0)\n",
    "pre_MAM_min=np.nanmin(pre_MAM,axis=0)\n",
    "pre_JJA_min=np.nanmin(pre_JJA,axis=0)\n",
    "pre_SON_min=np.nanmin(pre_SON,axis=0)\n",
    "pre_DJF_min=np.nanmin(pre_DJF,axis=0)\n",
    "pre_year_min=np.nanmin(pre_year,axis=0)\n",
    "ts_year_min=np.nanmin(ts_year,axis=0)\n",
    "\n",
    "\n",
    "\n",
    "\n",
    "##############\n",
    "##### Calculate the p' and t'\n",
    "################\n",
    "t_dis=ts_year-ts_year_min\n",
    "p_rat=pre_year/pre_year_min\n",
    "\n",
    "### Differenct seasons\n",
    "t_dis_MAM=ts_MAM-ts_MAM_min\n",
    "p_rat_MAM=pre_MAM/pre_MAM_min\n",
    "\n",
    "t_dis_JJA=ts_JJA-ts_JJA_min\n",
    "p_rat_JJA=pre_JJA/pre_JJA_min\n",
    "\n",
    "t_dis_SON=ts_SON-ts_SON_min\n",
    "p_rat_SON=pre_SON/pre_SON_min\n",
    "\n",
    "t_dis_DJF=ts_DJF-ts_DJF_min\n",
    "p_rat_DJF=pre_DJF/re_DJF_min\n",
    "\n",
    "\n",
    "#############\n",
    "#### Calculate the TPSI\n",
    "#############\n",
    "tp_MAM=(t_dis_MAM-p_rat_MAM)/(t_dis_MAM+p_rat_MAM)\n",
    "tp_JJA=(t_dis_JJA-p_rat_JJA)/(t_dis_JJA+p_rat_JJA)\n",
    "tp_SON=(t_dis_SON-p_rat_SON)/(t_dis_SON+p_rat_SON)\n",
    "tp_DJF=(t_dis_DJF-p_rat_DJF)/(t_dis_DJF+p_rat_DJF)\n"
   ]
  }
 ],
 "metadata": {
  "kernelspec": {
   "display_name": "Python 3",
   "language": "python",
   "name": "python3"
  },
  "language_info": {
   "codemirror_mode": {
    "name": "ipython",
    "version": 3
   },
   "file_extension": ".py",
   "mimetype": "text/x-python",
   "name": "python",
   "nbconvert_exporter": "python",
   "pygments_lexer": "ipython3",
   "version": "3.7.8"
  }
 },
 "nbformat": 4,
 "nbformat_minor": 4
}
